{
 "cells": [
  {
   "cell_type": "markdown",
   "id": "81002679",
   "metadata": {},
   "source": [
    "## Iterative Deepening Search (IDS)"
   ]
  },
  {
   "cell_type": "markdown",
   "id": "1fca3db1",
   "metadata": {},
   "source": [
    "\n",
    "##### Iterative Deepening Search (IDS) is a graph search algorithm that combines the benefits of depth-first search and breadth-first search. It performs a series of depth-limited searches with increasing depth limits until the goal is found.\n"
   ]
  },
  {
   "cell_type": "markdown",
   "id": "7bd68ce0",
   "metadata": {},
   "source": [
    "Here's a Python code for Iterative Deepening Search:"
   ]
  },
  {
   "cell_type": "code",
   "execution_count": 1,
   "id": "3f8ef932",
   "metadata": {},
   "outputs": [
    {
     "name": "stdout",
     "output_type": "stream",
     "text": [
      "The path from A to H is: A -> C -> G -> H\n"
     ]
    }
   ],
   "source": [
    "def depth_limited_search(graph, start, goal, depth_limit):\n",
    "    if start == goal:\n",
    "        return [start]\n",
    "\n",
    "    if depth_limit == 0:\n",
    "        return None\n",
    "\n",
    "    if depth_limit > 0:\n",
    "        for neighbor in graph[start]:\n",
    "            path = depth_limited_search(graph, neighbor, goal, depth_limit - 1)\n",
    "            if path is not None:\n",
    "                return [start] + path\n",
    "\n",
    "    return None\n",
    "\n",
    "def iterative_deepening_search(graph, start, goal):\n",
    "    max_depth = 0\n",
    "    while True:\n",
    "        result = depth_limited_search(graph, start, goal, max_depth)\n",
    "        if result is not None:\n",
    "            return result\n",
    "        max_depth += 1\n",
    "\n",
    "# Example Usage\n",
    "graph = {\n",
    "    'A': ['B', 'C'],\n",
    "    'B': ['D', 'E'],\n",
    "    'C': ['F', 'G'],\n",
    "    'D': [],\n",
    "    'E': [],\n",
    "    'F': [],\n",
    "    'G': ['H'],\n",
    "    'H': []\n",
    "}\n",
    "\n",
    "start_node = 'A'\n",
    "goal_node = 'H'\n",
    "\n",
    "result = iterative_deepening_search(graph, start_node, goal_node)\n",
    "\n",
    "if result is not None:\n",
    "    print(f\"The path from {start_node} to {goal_node} is: {' -> '.join(result)}\")\n",
    "else:\n",
    "    print(f\"There is no path from {start_node} to {goal_node}.\")\n"
   ]
  },
  {
   "cell_type": "code",
   "execution_count": null,
   "id": "d756c23e",
   "metadata": {},
   "outputs": [],
   "source": []
  }
 ],
 "metadata": {
  "kernelspec": {
   "display_name": "Python 3 (ipykernel)",
   "language": "python",
   "name": "python3"
  },
  "language_info": {
   "codemirror_mode": {
    "name": "ipython",
    "version": 3
   },
   "file_extension": ".py",
   "mimetype": "text/x-python",
   "name": "python",
   "nbconvert_exporter": "python",
   "pygments_lexer": "ipython3",
   "version": "3.11.5"
  }
 },
 "nbformat": 4,
 "nbformat_minor": 5
}
